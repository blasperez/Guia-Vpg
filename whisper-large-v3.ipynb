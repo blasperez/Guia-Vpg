{
  "nbformat": 4,
  "nbformat_minor": 0,
  "metadata": {
    "colab": {
      "provenance": [],
      "toc_visible": true,
      "gpuType": "T4",
      "authorship_tag": "ABX9TyOv9gN27NhAG0TD09nGeaSt"
    },
    "kernelspec": {
      "name": "python3",
      "display_name": "Python 3"
    },
    "language_info": {
      "name": "python"
    },
    "accelerator": "GPU"
  },
  "cells": [
    {
      "cell_type": "code",
      "source": [
        "# Instalar Whisper y dependencias\n",
        "!pip install -q openai-whisper ffmpeg\n",
        "\n",
        "# Verificar si hay GPU disponible\n",
        "import torch\n",
        "device = \"cuda\" if torch.cuda.is_available() else \"cpu\"\n",
        "print(f\"Usando dispositivo: {device}\")\n",
        "\n",
        "# Descargar el modelo Whisper Large v3 y forzar uso de GPU\n",
        "import whisper\n",
        "model = whisper.load_model(\"large-v3\").to(device)\n",
        "\n",
        "# Subir archivos de audio\n",
        "from google.colab import files\n",
        "audio_files = files.upload()  # Subir múltiples archivos\n",
        "\n",
        "# Crear un archivo para guardar las transcripciones\n",
        "output_file = \"transcripciones.txt\"\n",
        "\n",
        "with open(output_file, \"w\", encoding=\"utf-8\") as f:\n",
        "    for audio_path in audio_files.keys():\n",
        "        print(f\"\\n🔹 Transcribiendo: {audio_path}\")\n",
        "        result = model.transcribe(audio_path)\n",
        "\n",
        "        # Guardar la transcripción en el archivo\n",
        "        f.write(f\"\\n🔹 Archivo: {audio_path}\\n\")\n",
        "        f.write(result[\"text\"] + \"\\n\\n\")\n",
        "\n",
        "print(\"\\n✅ Todas las transcripciones han sido guardadas en transcripciones.txt\")\n",
        "\n",
        "# Permitir descargar el archivo\n",
        "from google.colab import files\n",
        "files.download(output_file)\n"
      ],
      "metadata": {
        "id": "ynp2gm-QDFhA"
      },
      "execution_count": null,
      "outputs": []
    }
  ]
}